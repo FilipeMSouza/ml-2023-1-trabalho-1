{
 "cells": [
  {
   "cell_type": "code",
   "execution_count": 3,
   "metadata": {},
   "outputs": [],
   "source": [
    "import pandas as pd\n",
    "import xlsxwriter"
   ]
  },
  {
   "cell_type": "code",
   "execution_count": 4,
   "metadata": {},
   "outputs": [],
   "source": [
    "df = pd.read_excel('dataset.xlsx')\n",
    "wb = xlsxwriter.Workbook('Outliers.xlsx')\n",
    "\n",
    "worksheet = wb.add_worksheet()"
   ]
  },
  {
   "cell_type": "code",
   "execution_count": 5,
   "metadata": {},
   "outputs": [],
   "source": [
    "def fillColumn(column_name):\n",
    "    freq= df[column_name].value_counts()\n",
    "    df[column_name].fillna(freq.index[0], inplace=True)\n",
    "    "
   ]
  },
  {
   "cell_type": "code",
   "execution_count": null,
   "metadata": {},
   "outputs": [],
   "source": [
    "for column_name in df.columns:\n",
    "  if(df[column_name].isnull().sum()>=(5644*.99)):\n",
    "    print(\"Columna eliminada por dados Falntantes e/ou Inconsistentes: \" + column_name)\n",
    "    df.drop([column_name], axis='columns', inplace=True)\n",
    "  else:\n",
    "    fillColumn(column_name)"
   ]
  },
  {
   "cell_type": "code",
   "execution_count": null,
   "metadata": {},
   "outputs": [],
   "source": [
    "for column_name in df.columns:\n",
    "  if(type(df[column_name][10]) == str):\n",
    "    print(\"Columna eliminada por dados nao atenderem os requisitos (são strings): \" + column_name)\n",
    "    df.drop([column_name], axis='columns', inplace=True)"
   ]
  },
  {
   "cell_type": "code",
   "execution_count": 8,
   "metadata": {},
   "outputs": [],
   "source": [
    "def  find_outliers_IQR(column_name):\n",
    "    q= df[column_name].quantile([0.25, 0.5, 0.75])\n",
    "    q1= q.values[0]\n",
    "    q3= q.values[1]\n",
    "    IQR= q3-q1\n",
    "    outliers= df[(df[column_name] < q1-1.5*IQR) | (df[column_name] > q3+1.5*IQR)]\n",
    "    return outliers"
   ]
  },
  {
   "cell_type": "code",
   "execution_count": null,
   "metadata": {},
   "outputs": [],
   "source": [
    "for column_name in df.columns:\n",
    "  outliers = find_outliers_IQR(column_name)\n",
    "  print(\"Outliers da coluna \" + column_name + \": \" + str(outliers.shape[0]))"
   ]
  },
  {
   "cell_type": "code",
   "execution_count": null,
   "metadata": {},
   "outputs": [],
   "source": [
    "for column_name in df.columns:\n",
    "    print(\"Outliers da coluna \" + column_name + \": \")\n",
    "    print(str(outliers[column_name]))\n",
    "    print(\"\")\n",
    "\n",
    "wb = outliers.to_excel('Outliers.xlsx', index=False)"
   ]
  }
 ],
 "metadata": {
  "kernelspec": {
   "display_name": "Python 3",
   "language": "python",
   "name": "python3"
  },
  "language_info": {
   "codemirror_mode": {
    "name": "ipython",
    "version": 3
   },
   "file_extension": ".py",
   "mimetype": "text/x-python",
   "name": "python",
   "nbconvert_exporter": "python",
   "pygments_lexer": "ipython3",
   "version": "3.10.8"
  },
  "orig_nbformat": 4
 },
 "nbformat": 4,
 "nbformat_minor": 2
}
